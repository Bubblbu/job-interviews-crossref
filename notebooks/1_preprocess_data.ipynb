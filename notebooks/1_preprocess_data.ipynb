{
 "cells": [
  {
   "cell_type": "code",
   "execution_count": null,
   "metadata": {},
   "outputs": [],
   "source": [
    "import re\n",
    "import polars as pl\n",
    "\n",
    "from helpers import bronze_dir, silver_dir"
   ]
  },
  {
   "cell_type": "code",
   "execution_count": null,
   "metadata": {},
   "outputs": [
    {
     "data": {
      "text/html": [
       "<div><style>\n",
       ".dataframe > thead > tr,\n",
       ".dataframe > tbody > tr {\n",
       "  text-align: right;\n",
       "  white-space: pre-wrap;\n",
       "}\n",
       "</style>\n",
       "<small>shape: (10_000, 6)</small><table border=\"1\" class=\"dataframe\"><thead><tr><th>DOI</th><th>type</th><th>reference-count</th><th>is-referenced-by-count</th><th>reference</th><th>year</th></tr><tr><td>str</td><td>str</td><td>i64</td><td>i64</td><td>list[struct[14]]</td><td>i64</td></tr></thead><tbody><tr><td>&quot;10.29173/jaed204&quot;</td><td>&quot;journal-article&quot;</td><td>0</td><td>0</td><td>null</td><td>2005</td></tr><tr><td>&quot;10.1145/191246.191249&quot;</td><td>&quot;proceedings-article&quot;</td><td>0</td><td>0</td><td>null</td><td>1994</td></tr><tr><td>&quot;10.1172/jci34472ds1&quot;</td><td>&quot;component&quot;</td><td>0</td><td>0</td><td>null</td><td>null</td></tr><tr><td>&quot;10.1177/003463738808500173&quot;</td><td>&quot;journal-article&quot;</td><td>0</td><td>0</td><td>null</td><td>1988</td></tr><tr><td>&quot;10.1007/s00464-002-4290-6&quot;</td><td>&quot;journal-article&quot;</td><td>0</td><td>12</td><td>null</td><td>2003</td></tr><tr><td>&hellip;</td><td>&hellip;</td><td>&hellip;</td><td>&hellip;</td><td>&hellip;</td><td>&hellip;</td></tr><tr><td>&quot;10.2307/j.ctv11smw3n.16&quot;</td><td>&quot;book-chapter&quot;</td><td>0</td><td>0</td><td>null</td><td>2001</td></tr><tr><td>&quot;10.1055/s-0032-1316389&quot;</td><td>&quot;journal-article&quot;</td><td>0</td><td>0</td><td>null</td><td>2012</td></tr><tr><td>&quot;10.1016/s0014-3057(96)00007-9&quot;</td><td>&quot;journal-article&quot;</td><td>0</td><td>4</td><td>null</td><td>1997</td></tr><tr><td>&quot;10.9755/ejfa.2019.v31.i9.1999&quot;</td><td>&quot;journal-article&quot;</td><td>0</td><td>0</td><td>null</td><td>2019</td></tr><tr><td>&quot;10.1093/anb/9780198606697.arti…</td><td>&quot;reference-book&quot;</td><td>0</td><td>0</td><td>null</td><td>2000</td></tr></tbody></table></div>"
      ],
      "text/plain": [
       "shape: (10_000, 6)\n",
       "┌──────────────────┬──────────────────┬─────────────────┬─────────────────┬─────────────────┬──────┐\n",
       "│ DOI              ┆ type             ┆ reference-count ┆ is-referenced-b ┆ reference       ┆ year │\n",
       "│ ---              ┆ ---              ┆ ---             ┆ y-count         ┆ ---             ┆ ---  │\n",
       "│ str              ┆ str              ┆ i64             ┆ ---             ┆ list[struct[14] ┆ i64  │\n",
       "│                  ┆                  ┆                 ┆ i64             ┆ ]               ┆      │\n",
       "╞══════════════════╪══════════════════╪═════════════════╪═════════════════╪═════════════════╪══════╡\n",
       "│ 10.29173/jaed204 ┆ journal-article  ┆ 0               ┆ 0               ┆ null            ┆ 2005 │\n",
       "│ 10.1145/191246.1 ┆ proceedings-arti ┆ 0               ┆ 0               ┆ null            ┆ 1994 │\n",
       "│ 91249            ┆ cle              ┆                 ┆                 ┆                 ┆      │\n",
       "│ 10.1172/jci34472 ┆ component        ┆ 0               ┆ 0               ┆ null            ┆ null │\n",
       "│ ds1              ┆                  ┆                 ┆                 ┆                 ┆      │\n",
       "│ 10.1177/00346373 ┆ journal-article  ┆ 0               ┆ 0               ┆ null            ┆ 1988 │\n",
       "│ 8808500173       ┆                  ┆                 ┆                 ┆                 ┆      │\n",
       "│ 10.1007/s00464-0 ┆ journal-article  ┆ 0               ┆ 12              ┆ null            ┆ 2003 │\n",
       "│ 02-4290-6        ┆                  ┆                 ┆                 ┆                 ┆      │\n",
       "│ …                ┆ …                ┆ …               ┆ …               ┆ …               ┆ …    │\n",
       "│ 10.2307/j.ctv11s ┆ book-chapter     ┆ 0               ┆ 0               ┆ null            ┆ 2001 │\n",
       "│ mw3n.16          ┆                  ┆                 ┆                 ┆                 ┆      │\n",
       "│ 10.1055/s-0032-1 ┆ journal-article  ┆ 0               ┆ 0               ┆ null            ┆ 2012 │\n",
       "│ 316389           ┆                  ┆                 ┆                 ┆                 ┆      │\n",
       "│ 10.1016/s0014-30 ┆ journal-article  ┆ 0               ┆ 4               ┆ null            ┆ 1997 │\n",
       "│ 57(96)00007-9    ┆                  ┆                 ┆                 ┆                 ┆      │\n",
       "│ 10.9755/ejfa.201 ┆ journal-article  ┆ 0               ┆ 0               ┆ null            ┆ 2019 │\n",
       "│ 9.v31.i9.1999    ┆                  ┆                 ┆                 ┆                 ┆      │\n",
       "│ 10.1093/anb/9780 ┆ reference-book   ┆ 0               ┆ 0               ┆ null            ┆ 2000 │\n",
       "│ 198606697.arti…  ┆                  ┆                 ┆                 ┆                 ┆      │\n",
       "└──────────────────┴──────────────────┴─────────────────┴─────────────────┴─────────────────┴──────┘"
      ]
     },
     "execution_count": 29,
     "metadata": {},
     "output_type": "execute_result"
    }
   ],
   "source": [
    "# Load the Crossref sample\n",
    "raw = pl.read_ndjson(bronze_dir / \"sample_10000.jsonl\", ignore_errors=True)\n",
    "\n",
    "# Select columns that I'll be working with and slightly process them\n",
    "sample = raw.select(\n",
    "    \"DOI\",\n",
    "    \"type\",\n",
    "    pl.col(\"published\").struct.field(\"date-parts\").list.first().alias(\"published\"),\n",
    "    \"reference-count\",\n",
    "    \"is-referenced-by-count\",\n",
    "    \"reference\",\n",
    ")\n",
    "\n",
    "# Extract year from published date\n",
    "sample = sample.with_columns(pl.col(\"published\").list.first().alias(\"year\"))\n",
    "\n",
    "# Remove the old `published` field\n",
    "sample = sample.select(pl.exclude(\"published\"))\n",
    "sample.write_ndjson(silver_dir / \"sample.jsonl\")\n",
    "sample"
   ]
  },
  {
   "cell_type": "code",
   "execution_count": 25,
   "metadata": {},
   "outputs": [],
   "source": [
    "# This function extracts a year from the date string\n",
    "def extract_year(date_str):\n",
    "    match = re.search(r\"\\b(18|19|20)\\d{2}\\b\", date_str)\n",
    "    if match:\n",
    "        return int(match.group(0))\n",
    "    return None"
   ]
  },
  {
   "cell_type": "code",
   "execution_count": 28,
   "metadata": {},
   "outputs": [
    {
     "data": {
      "text/html": [
       "<div><style>\n",
       ".dataframe > thead > tr,\n",
       ".dataframe > tbody > tr {\n",
       "  text-align: right;\n",
       "  white-space: pre-wrap;\n",
       "}\n",
       "</style>\n",
       "<small>shape: (148_008, 4)</small><table border=\"1\" class=\"dataframe\"><thead><tr><th>citing</th><th>key</th><th>cited</th><th>year</th></tr><tr><td>str</td><td>str</td><td>str</td><td>i32</td></tr></thead><tbody><tr><td>&quot;10.1016/s0025-7753(01)71961-6&quot;</td><td>&quot;10.1016/S0025-7753(01)71961-6_…</td><td>&quot;10.1016/S0025-7753(00)71590-9&quot;</td><td>2000</td></tr><tr><td>&quot;10.1016/s0025-7753(01)71961-6&quot;</td><td>&quot;10.1016/S0025-7753(01)71961-6_…</td><td>&quot;10.1093/oxfordjournals.eurhear…</td><td>1991</td></tr><tr><td>&quot;10.1016/s0025-7753(01)71961-6&quot;</td><td>&quot;10.1016/S0025-7753(01)71961-6_…</td><td>null</td><td>1999</td></tr><tr><td>&quot;10.1016/s0025-7753(01)71961-6&quot;</td><td>&quot;10.1016/S0025-7753(01)71961-6_…</td><td>&quot;10.3949/ccjm.66.10.615&quot;</td><td>1999</td></tr><tr><td>&quot;10.1016/s0025-7753(01)71961-6&quot;</td><td>&quot;10.1016/S0025-7753(01)71961-6_…</td><td>&quot;10.1016/0735-1097(91)90675-Y&quot;</td><td>1991</td></tr><tr><td>&hellip;</td><td>&hellip;</td><td>&hellip;</td><td>&hellip;</td></tr><tr><td>&quot;10.1016/j.socscimed.2017.11.05…</td><td>&quot;10.1016/j.socscimed.2017.11.05…</td><td>&quot;10.1007/s12199-008-0037-x&quot;</td><td>2008</td></tr><tr><td>&quot;10.1016/j.socscimed.2017.11.05…</td><td>&quot;10.1016/j.socscimed.2017.11.05…</td><td>&quot;10.1001/jama.280.19.1690&quot;</td><td>1998</td></tr><tr><td>&quot;10.1016/j.socscimed.2017.11.05…</td><td>&quot;10.1016/j.socscimed.2017.11.05…</td><td>&quot;10.1111/j.1600-0447.2004.00388…</td><td>2004</td></tr><tr><td>&quot;10.1016/j.socscimed.2017.11.05…</td><td>&quot;10.1016/j.socscimed.2017.11.05…</td><td>&quot;10.1017/S0033291709990808&quot;</td><td>2010</td></tr><tr><td>&quot;10.1016/j.socscimed.2017.11.05…</td><td>&quot;10.1016/j.socscimed.2017.11.05…</td><td>&quot;10.1016/j.jad.2010.09.008&quot;</td><td>2011</td></tr></tbody></table></div>"
      ],
      "text/plain": [
       "shape: (148_008, 4)\n",
       "┌──────────────────────────────┬──────────────────────────────┬─────────────────────────────┬──────┐\n",
       "│ citing                       ┆ key                          ┆ cited                       ┆ year │\n",
       "│ ---                          ┆ ---                          ┆ ---                         ┆ ---  │\n",
       "│ str                          ┆ str                          ┆ str                         ┆ i32  │\n",
       "╞══════════════════════════════╪══════════════════════════════╪═════════════════════════════╪══════╡\n",
       "│ 10.1016/s0025-7753(01)71961- ┆ 10.1016/S0025-7753(01)71961- ┆ 10.1016/S0025-7753(00)71590 ┆ 2000 │\n",
       "│ 6                            ┆ 6_…                          ┆ -9                          ┆      │\n",
       "│ 10.1016/s0025-7753(01)71961- ┆ 10.1016/S0025-7753(01)71961- ┆ 10.1093/oxfordjournals.eurh ┆ 1991 │\n",
       "│ 6                            ┆ 6_…                          ┆ ear…                        ┆      │\n",
       "│ 10.1016/s0025-7753(01)71961- ┆ 10.1016/S0025-7753(01)71961- ┆ null                        ┆ 1999 │\n",
       "│ 6                            ┆ 6_…                          ┆                             ┆      │\n",
       "│ 10.1016/s0025-7753(01)71961- ┆ 10.1016/S0025-7753(01)71961- ┆ 10.3949/ccjm.66.10.615      ┆ 1999 │\n",
       "│ 6                            ┆ 6_…                          ┆                             ┆      │\n",
       "│ 10.1016/s0025-7753(01)71961- ┆ 10.1016/S0025-7753(01)71961- ┆ 10.1016/0735-1097(91)90675- ┆ 1991 │\n",
       "│ 6                            ┆ 6_…                          ┆ Y                           ┆      │\n",
       "│ …                            ┆ …                            ┆ …                           ┆ …    │\n",
       "│ 10.1016/j.socscimed.2017.11. ┆ 10.1016/j.socscimed.2017.11. ┆ 10.1007/s12199-008-0037-x   ┆ 2008 │\n",
       "│ 05…                          ┆ 05…                          ┆                             ┆      │\n",
       "│ 10.1016/j.socscimed.2017.11. ┆ 10.1016/j.socscimed.2017.11. ┆ 10.1001/jama.280.19.1690    ┆ 1998 │\n",
       "│ 05…                          ┆ 05…                          ┆                             ┆      │\n",
       "│ 10.1016/j.socscimed.2017.11. ┆ 10.1016/j.socscimed.2017.11. ┆ 10.1111/j.1600-0447.2004.00 ┆ 2004 │\n",
       "│ 05…                          ┆ 05…                          ┆ 388…                        ┆      │\n",
       "│ 10.1016/j.socscimed.2017.11. ┆ 10.1016/j.socscimed.2017.11. ┆ 10.1017/S0033291709990808   ┆ 2010 │\n",
       "│ 05…                          ┆ 05…                          ┆                             ┆      │\n",
       "│ 10.1016/j.socscimed.2017.11. ┆ 10.1016/j.socscimed.2017.11. ┆ 10.1016/j.jad.2010.09.008   ┆ 2011 │\n",
       "│ 05…                          ┆ 05…                          ┆                             ┆      │\n",
       "└──────────────────────────────┴──────────────────────────────┴─────────────────────────────┴──────┘"
      ]
     },
     "execution_count": 28,
     "metadata": {},
     "output_type": "execute_result"
    }
   ],
   "source": [
    "# Extract reference data and export to CSV\n",
    "citations = (\n",
    "    sample.select(pl.col(\"DOI\").alias(\"citing\"), pl.col(\"reference\"))\n",
    "    .drop_nulls()\n",
    "    .explode(\"reference\")\n",
    "    .unnest(\"reference\")\n",
    ").select(\n",
    "    \"citing\",\n",
    "    \"key\",\n",
    "    pl.col(\"DOI\").alias(\"cited\"),\n",
    "    pl.col(\"year\").map_elements(extract_year, return_dtype=pl.Int32),\n",
    ")\n",
    "citations.write_csv(silver_dir / \"citations.csv\")\n",
    "citations"
   ]
  }
 ],
 "metadata": {
  "kernelspec": {
   "display_name": ".venv",
   "language": "python",
   "name": "python3"
  },
  "language_info": {
   "codemirror_mode": {
    "name": "ipython",
    "version": 3
   },
   "file_extension": ".py",
   "mimetype": "text/x-python",
   "name": "python",
   "nbconvert_exporter": "python",
   "pygments_lexer": "ipython3",
   "version": "3.11.6"
  }
 },
 "nbformat": 4,
 "nbformat_minor": 2
}
