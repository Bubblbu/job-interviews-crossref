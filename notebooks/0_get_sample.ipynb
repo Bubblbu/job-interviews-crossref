{
 "cells": [
  {
   "cell_type": "code",
   "execution_count": null,
   "metadata": {},
   "outputs": [],
   "source": [
    "import json\n",
    "import math\n",
    "\n",
    "from crossref.restful import Etiquette, Works\n",
    "from ratelimit import limits, sleep_and_retry\n",
    "from tqdm.auto import tqdm\n",
    "\n",
    "from helpers import (\n",
    "    CALLS,\n",
    "    PERIOD,\n",
    "    bronze_dir,\n",
    "    tool_email,\n",
    "    tool_name,\n",
    "    tool_url,\n",
    "    tool_version,\n",
    ")"
   ]
  },
  {
   "cell_type": "code",
   "execution_count": null,
   "metadata": {},
   "outputs": [],
   "source": [
    "my_etiquette = Etiquette(tool_name, tool_version, tool_url, tool_email)\n",
    "works = Works(etiquette=my_etiquette)\n",
    "\n",
    "\n",
    "@sleep_and_retry\n",
    "@limits(calls=CALLS, period=PERIOD)\n",
    "def fetch_sample(batch_size=100):\n",
    "    return works.sample(sample_size=batch_size)\n",
    "\n",
    "\n",
    "def calculate_batches(total_size, batch_size):\n",
    "    return math.ceil(total_size / batch_size)\n",
    "\n",
    "\n",
    "def download_samples(sample_size: int, batch_size: int, output_file):\n",
    "    with open(output_file, \"w\") as f:\n",
    "        num_batches = calculate_batches(sample_size, batch_size)\n",
    "        for _ in tqdm(range(num_batches), desc=\"Downloading samples\"):\n",
    "            response = fetch_sample(batch_size=batch_size)\n",
    "            for item in response:\n",
    "                f.write(json.dumps(item) + \"\\n\")"
   ]
  },
  {
   "cell_type": "code",
   "execution_count": null,
   "metadata": {},
   "outputs": [
    {
     "data": {
      "application/vnd.jupyter.widget-view+json": {
       "model_id": "028f9b503ca7456c8b27111d340ce4a5",
       "version_major": 2,
       "version_minor": 0
      },
      "text/plain": [
       "Downloading samples:   0%|          | 0/1000 [00:00<?, ?it/s]"
      ]
     },
     "metadata": {},
     "output_type": "display_data"
    }
   ],
   "source": [
    "sample_size = 100000\n",
    "batch_size = 100\n",
    "\n",
    "output_file = bronze_dir / f\"sample_{sample_size}.jsonl\"\n",
    "download_samples(sample_size, batch_size, output_file)"
   ]
  }
 ],
 "metadata": {
  "kernelspec": {
   "display_name": ".venv",
   "language": "python",
   "name": "python3"
  },
  "language_info": {
   "codemirror_mode": {
    "name": "ipython",
    "version": 3
   },
   "file_extension": ".py",
   "mimetype": "text/x-python",
   "name": "python",
   "nbconvert_exporter": "python",
   "pygments_lexer": "ipython3",
   "version": "3.11.6"
  }
 },
 "nbformat": 4,
 "nbformat_minor": 2
}
